{
 "cells": [
  {
   "cell_type": "code",
   "execution_count": 1,
   "metadata": {
    "collapsed": true,
    "nbpresent": {
     "id": "3e4012ed-fb3e-4e94-ab07-25bc73c68896"
    }
   },
   "outputs": [],
   "source": [
    "## author: Xiaowu He. horacehxw@gmail.com\n",
    "%matplotlib inline\n",
    "import networkx as nx\n",
    "import matplotlib\n",
    "import matplotlib.pyplot as plt\n",
    "import numpy as np\n",
    "from numpy.random import rand\n",
    "from scipy.stats import norm\n",
    "import seaborn as sns\n",
    "sns.set(color_codes=True)"
   ]
  },
  {
   "cell_type": "code",
   "execution_count": 2,
   "metadata": {},
   "outputs": [
    {
     "data": {
      "text/html": [
       "<script>requirejs.config({paths: { 'plotly': ['https://cdn.plot.ly/plotly-latest.min']},});if(!window.Plotly) {{require(['plotly'],function(plotly) {window.Plotly=plotly;});}}</script>"
      ],
      "text/vnd.plotly.v1+html": [
       "<script>requirejs.config({paths: { 'plotly': ['https://cdn.plot.ly/plotly-latest.min']},});if(!window.Plotly) {{require(['plotly'],function(plotly) {window.Plotly=plotly;});}}</script>"
      ]
     },
     "metadata": {},
     "output_type": "display_data"
    }
   ],
   "source": [
    "import plotly.plotly as py\n",
    "import plotly.graph_objs as go\n",
    "from plotly.offline import download_plotlyjs, init_notebook_mode, plot, iplot\n",
    "init_notebook_mode(connected=True)"
   ]
  },
  {
   "cell_type": "code",
   "execution_count": 3,
   "metadata": {
    "collapsed": true,
    "nbpresent": {
     "id": "57aef414-e40b-4f64-9419-1c5639ceef59"
    }
   },
   "outputs": [],
   "source": [
    "class Node:\n",
    "    '''\n",
    "    This is the class for the basic nodes in the information network.\n",
    "    Each node represents a single person in social network, \n",
    "        they are connected within a given \"Group\", which represents city.\n",
    "    \n",
    "    @Attribute:\n",
    "        population: float between [0,100], propotion of population in the Node know the message\n",
    "        energy: importance of the energy recevied, decreament every time interval\n",
    "        \n",
    "    @Function:\n",
    "        prob: return the probability to transmit message\n",
    "        update: energy decreament\n",
    "        \n",
    "    \n",
    "    '''\n",
    "    \n",
    "    def __init__(self):\n",
    "        self.energy = 0\n",
    "        self.know = False\n",
    "        \n",
    "    def get_info(self, info):\n",
    "        self.energy = info\n",
    "        self.know = True\n",
    "        \n",
    "    def prob(self):\n",
    "        '''\n",
    "        The probability of the Node to transmit message to connected Node\n",
    "        Should be a monotonical nondecreasing function of message energy.\n",
    "        \n",
    "        The cumulative distribution function of normal distribution is applied.\n",
    "            \n",
    "        @Return:\n",
    "            probability: float in [0,1]\n",
    "        '''\n",
    "        if self.know:\n",
    "            #return norm.cdf(self.energy, 75, 50)\n",
    "            return np.abs(self.energy / 100.)\n",
    "        return 0\n",
    "    \n",
    "    def update(self):\n",
    "        '''\n",
    "        Natrual update w/o other influence for attribute in a given time interval\n",
    "        \n",
    "        * population multiply by (1+ratio)\n",
    "        '''\n",
    "        self.energy *= 0.8\n",
    "        \n",
    "        \n",
    "    def transmit(self, other):\n",
    "        if not other.know:\n",
    "            other.get_info(self.energy+1)\n",
    "        \n",
    "        "
   ]
  },
  {
   "cell_type": "code",
   "execution_count": 10,
   "metadata": {
    "collapsed": true,
    "nbpresent": {
     "id": "55fec43e-f6aa-468e-a7a8-adae5f1ec6f3"
    }
   },
   "outputs": [],
   "source": [
    "class Group:\n",
    "    '''\n",
    "    A network of Nodes where each Node is connceted via the power law probability graph.\n",
    "    Each node's\n",
    "    @Attribute:\n",
    "        nodes: list of Node object\n",
    "        G: a graph shows the relationship between each object\n",
    "    \n",
    "    \n",
    "    @Function:\n",
    "        \n",
    "    \n",
    "    '''\n",
    "    \n",
    "    def __init__(self, num, opinion=False):\n",
    "        '''\n",
    "        Use the index of Node in the list \n",
    "        \n",
    "        input:\n",
    "            num: number of Node in this Group object\n",
    "        '''\n",
    "        self.nodes = [Node() for _ in range(num)]\n",
    "        self.G = nx.powerlaw_cluster_graph(num, 2, 1) # 0.5 controls the prefrence of clusters\n",
    "      \n",
    "    def start(self, info):\n",
    "        '''\n",
    "        Let one random person know the message\n",
    "        '''\n",
    "        index = np.random.randint(0, len(self.nodes))\n",
    "        self.nodes[index].get_info(info)\n",
    "    \n",
    "    def know(self):\n",
    "        '''\n",
    "        return the number of people know this message at the time period\n",
    "        '''\n",
    "        return np.sum([node.know for node in self.nodes])\n",
    "    \n",
    "    def energy(self):\n",
    "        '''\n",
    "        return the total energy of the message in this Group\n",
    "        '''\n",
    "        return np.sum([np.abs(node.energy) for node in self.nodes])\n",
    "    \n",
    "    def update(self):\n",
    "        '''\n",
    "        call update for each node.\n",
    "        then transmit to the neigherbors with certain probability.\n",
    "        '''\n",
    "        for node in self.nodes:\n",
    "            node.update()\n",
    "        for i in range(len(self.nodes)):\n",
    "            here = self.nodes[i]\n",
    "            for j in self.G.adj[i]:\n",
    "                there = self.nodes[j]\n",
    "                if rand() < here.prob():\n",
    "                    here.transmit(there) \n",
    "                    \n",
    "    def status(self):\n",
    "        energy = np.array([node.energy for node in self.nodes])\n",
    "        knows = np.array([int(node.know)] for node in self.nodes)\n",
    "        import pdb; pdb.set_trace()\n",
    "        print('total known population:{:8}, total energy: {:12.2f} '.format(np.sum(knows), np.sum(energy)))\n",
    "        return knows, energy"
   ]
  },
  {
   "cell_type": "code",
   "execution_count": 11,
   "metadata": {},
   "outputs": [],
   "source": [
    "NY = Group(100)"
   ]
  },
  {
   "cell_type": "code",
   "execution_count": null,
   "metadata": {},
   "outputs": [
    {
     "name": "stdout",
     "output_type": "stream",
     "text": [
      "> <ipython-input-10-46d4ba3ba221>(62)status()\n",
      "-> print('total known population:{:8}, total energy: {:12.2f} '.format(np.sum(knows), np.sum(energy)))\n",
      "(Pdb) np.sum(knows)\n",
      "<generator object Group.status.<locals>.<genexpr> at 0x7f52069a7830>\n"
     ]
    }
   ],
   "source": [
    "NY.status()"
   ]
  },
  {
   "cell_type": "code",
   "execution_count": null,
   "metadata": {},
   "outputs": [],
   "source": [
    "def simulate(NY, info, time = 100):\n",
    "    '''\n",
    "    Single city offline model simulation.\n",
    "    \n",
    "    @Input:\n",
    "        num: population of given group\n",
    "        info: relative importance(initial energy) of infomation\n",
    "        \n",
    "    @Return:\n",
    "        pop_know: The number of people know this message as a time series.\n",
    "        energy_total: total energy of this message in the city as a time series.\n",
    "        NY.G: the internal connection graph of ths city. used for topology analysis.\n",
    "    '''\n",
    "    NY.start(info)\n",
    "    status = []\n",
    "    for _ in range(time):\n",
    "        NY.update()\n",
    "        status.append(NY.status())\n",
    "    return pop_know, energy_total, NY.G, NY\n",
    "\n",
    "\n",
    "status = []\n",
    "    for _ in range(time):\n",
    "        status.append(net.status())\n",
    "        net.update()\n",
    "    time, pop, energy = zip(*status)\n",
    "    return list(time), np.vstack(pop), np.vstack(energy)\n"
   ]
  },
  {
   "cell_type": "code",
   "execution_count": null,
   "metadata": {
    "collapsed": true,
    "scrolled": true
   },
   "outputs": [],
   "source": [
    "pop, energy, G, NY = simulate(Group(1000), 20)"
   ]
  },
  {
   "cell_type": "code",
   "execution_count": null,
   "metadata": {
    "collapsed": true,
    "scrolled": false
   },
   "outputs": [],
   "source": [
    "iplot([go.Scatter(y=pop), go.Scatter(y=energy)])"
   ]
  },
  {
   "cell_type": "code",
   "execution_count": null,
   "metadata": {
    "collapsed": true,
    "scrolled": false
   },
   "outputs": [],
   "source": [
    "#G = nx.powerlaw_cluster_graph(100000, 3, 0.5)\n",
    "sns.distplot(np.log(list(dict(nx.degree(G)).values())/np.log(3)),kde=False)\n",
    "plt.title(\"distribution of degree of nodes (log scale), n=10^5\")\n",
    "plt.xlabel('log3(degree)')\n",
    "plt.ylabel('counts of given scale')"
   ]
  },
  {
   "cell_type": "code",
   "execution_count": null,
   "metadata": {
    "collapsed": true
   },
   "outputs": [],
   "source": [
    "def generate_traces(G, layout_funct=nx.spring_layout):\n",
    "    pos = layout_funct(G)\n",
    "    N = len(G.nodes())\n",
    "    \n",
    "    edge_trace = go.Scatter(\n",
    "        x=[],\n",
    "        y=[],\n",
    "        line=go.Line(width=0.1,color='#888'),\n",
    "        hoverinfo='none',\n",
    "        mode='lines')\n",
    "\n",
    "    for edge in G.edges():\n",
    "        edge_trace['x'] += [pos[edge[0]][0],pos[edge[1]][0], None]\n",
    "        edge_trace['y'] += [pos[edge[0]][1],pos[edge[1]][1], None]\n",
    "\n",
    "    node_trace = go.Scatter(\n",
    "        x = [pos[k][0] for k in range(N)],\n",
    "        y = [pos[k][1] for k in range(N)],\n",
    "        text=[],\n",
    "        mode='markers',\n",
    "        hoverinfo='text',\n",
    "        marker=go.Marker(\n",
    "            showscale=True,\n",
    "            # colorscale options\n",
    "            # 'Greys' | 'Greens' | 'Bluered' | 'Hot' | 'Picnic' | 'Portland' |\n",
    "            # Jet' | 'RdBu' | 'Blackbody' | 'Earth' | 'Electric' | 'YIOrRd' | 'YIGnBu'\n",
    "            colorscale='Jet',\n",
    "            reversescale=True,\n",
    "            color=[],\n",
    "            size=5,\n",
    "            colorbar=dict(\n",
    "                thickness=15,\n",
    "                title='Node Connections',\n",
    "                xanchor='left',\n",
    "                titleside='right'\n",
    "            ),\n",
    "            #line=dict(width=1)\n",
    "        ))\n",
    "    \n",
    "    # function to color the nodes    \n",
    "    for i in range(N):\n",
    "        node_trace['marker']['color'].append(len(G.adj[i]))\n",
    "        node_info = 'degree of node: '+str(len(G.adj[i]))\n",
    "        node_trace['text'].append(node_info)\n",
    "\n",
    "    return [edge_trace, node_trace] # node is plot above the edges !!!"
   ]
  },
  {
   "cell_type": "code",
   "execution_count": null,
   "metadata": {
    "collapsed": true
   },
   "outputs": [],
   "source": [
    "layout=go.Layout(\n",
    "                title='Energy Visualization',\n",
    "                titlefont=dict(size=16),\n",
    "                showlegend=False,\n",
    "                hovermode='closest',\n",
    "                margin=dict(b=20,l=5,r=5,t=40),\n",
    "                xaxis=go.XAxis(showgrid=False, zeroline=False, showticklabels=False),\n",
    "                yaxis=go.YAxis(showgrid=False, zeroline=False, showticklabels=False))"
   ]
  },
  {
   "cell_type": "code",
   "execution_count": null,
   "metadata": {},
   "outputs": [],
   "source": [
    "G = nx.powerlaw_cluster_graph(500, 3, 0.5)\n",
    "data = generate_traces(G)#layout_funct=nx.fruchterman_reingold_layout)\n",
    "py.iplot(data, layout=layout)"
   ]
  },
  {
   "cell_type": "code",
   "execution_count": null,
   "metadata": {
    "collapsed": true
   },
   "outputs": [],
   "source": []
  },
  {
   "cell_type": "code",
   "execution_count": null,
   "metadata": {
    "collapsed": true
   },
   "outputs": [],
   "source": []
  },
  {
   "cell_type": "code",
   "execution_count": null,
   "metadata": {
    "collapsed": true
   },
   "outputs": [],
   "source": []
  },
  {
   "cell_type": "code",
   "execution_count": null,
   "metadata": {
    "collapsed": true
   },
   "outputs": [],
   "source": [
    "from numpy.random import choice\n",
    "class GroupCenter(Group):\n",
    "    '''\n",
    "    The Group with extra centralize message propagation method, etc. we take into \n",
    "        account the traditional authority medias, like TV, radio, or News app.\n",
    "    \n",
    "    There's a popularity term defines the popularity of centralized medias inside \n",
    "        the group. After a certain time interval, we imagine the centralized medias \n",
    "        transmit the infomation to those.\n",
    "        \n",
    "    The Group itself can't control the transmission of mass media, since they are mostly\n",
    "        across multiple cities.\n",
    "        \n",
    "    @Constant:\n",
    "        PROB_ACCEPT: \n",
    "            acceptance percentage of people who received message from the \n",
    "            centralized medias.\n",
    "            \n",
    "        \n",
    "    @Attribute:\n",
    "        attention: a boolean indicating wheter the local media notice the message or not.\n",
    "            need to be something with huge energy in the city.\n",
    "        index_central: index of Nodes who receives message from centers.(Fixed after Initialize)\n",
    "        popularity: percentage of person who can receive the message from centers.\n",
    "    '''\n",
    "    PROB_ACCEPT = 0.1\n",
    "    ENERGY_THRESHOLD_AVG = 2 #the total energy 5 times the population, which is huge.\n",
    "    \n",
    "    def __init__(self, num, popularity=0.3, name=\"\"):\n",
    "        '''\n",
    "        This group has some index of people who receive messages from the centralized medias.\n",
    "        \n",
    "        The index is chosen by the popularity.\n",
    "        '''\n",
    "        super().__init__(num)\n",
    "        self.popularity = popularity\n",
    "        self.index_central = choice(num, int(num*popularity))\n",
    "        self.attention = False\n",
    "        self.name = name\n",
    "        \n",
    "    def start(self, info):\n",
    "        self.info = info #record the initial infomation\n",
    "        super().start(info)\n",
    "        \n",
    "    def transmit_center(self, info):\n",
    "        '''\n",
    "        Specify the behavior if the mass centralized media spread the infomation in the city.\n",
    "        '''\n",
    "        self.attention = False #switch to moniter the city's energy in the next stage\n",
    "        for idx in self.index_central:\n",
    "            if rand() < self.PROB_ACCEPT and not self.nodes[idx].know:\n",
    "                self.nodes[idx].get_info(info)\n",
    "        \n",
    "    \n",
    "    def update(self):\n",
    "        super().update()\n",
    "        if self.energy() >=  len(self.nodes) * self.ENERGY_THRESHOLD_AVG:\n",
    "            self.attention = True\n",
    "#         #TO DO: There should be some other threshold to \n",
    "#         #       determine whether to public this or not\n",
    "#         if self.time % self.TIME_INTERVAL_CENTER == 0 and self.attention:\n",
    "#             print('Centralized Media Public at time {}'.format(self.time))\n",
    "            "
   ]
  },
  {
   "cell_type": "code",
   "execution_count": null,
   "metadata": {
    "collapsed": true,
    "scrolled": true
   },
   "outputs": [],
   "source": [
    "pop, energy, G = simulate(GroupCenter(100000, popularity=0.5), 30)"
   ]
  },
  {
   "cell_type": "code",
   "execution_count": null,
   "metadata": {
    "collapsed": true
   },
   "outputs": [],
   "source": [
    "iplot([go.Scatter(y=pop[0]), go.Scatter(y=energy[0])])"
   ]
  },
  {
   "cell_type": "code",
   "execution_count": null,
   "metadata": {
    "collapsed": true
   },
   "outputs": [],
   "source": [
    "class GroupNet():\n",
    "    '''\n",
    "    Represents the network containing many cities.\n",
    "    '''\n",
    "    \n",
    "    TIME_MEDIA = 3\n",
    "    TIME_CROSS_CITY = -1\n",
    "    \n",
    "    def __init__(self, groups,  center=True):\n",
    "        self.time = 0\n",
    "        self.center = center\n",
    "        self.groups = []\n",
    "        self.attention = False\n",
    "        for group in groups:\n",
    "            self.groups.append(group)\n",
    "            \n",
    "    def start(self, info, loc=None):\n",
    "        '''\n",
    "        Start at a random Node in a random city\n",
    "        '''\n",
    "        self.info = info\n",
    "        if loc==None:\n",
    "            idx = np.random.randint(0, len(self.groups))\n",
    "        else:\n",
    "            idx = loc\n",
    "        print('simulation start at city {}'.format(self.groups[idx].name))\n",
    "        self.groups[idx].start(info)\n",
    "    \n",
    "    def update(self):\n",
    "        '''\n",
    "        What to do in a time interval:\n",
    "            call update for every city.\n",
    "            check whether or not start the mass media transmission.\n",
    "        '''\n",
    "        self.time += 1\n",
    "        for group in self.groups:\n",
    "            group.update()\n",
    "            self.attention |= group.attention\n",
    "#         self.groups = Parallel(n_jobs=-1)(delayed(funct)(group) for group in self.groups)\n",
    "            \n",
    "        # spread across the cities\n",
    "        if self.time == self.TIME_CROSS_CITY: #only one time for each message\n",
    "            for group in self.groups:\n",
    "                if group.know() == 0:\n",
    "                    group.start(self.info)\n",
    "        \n",
    "        # spread by centralized medias\n",
    "        if self.center and self.time % self.TIME_MEDIA == 0 and self.attention:\n",
    "            self.attention =False\n",
    "            for group in self.groups:\n",
    "                group.transmit_center(self.info)\n",
    "                \n",
    "        \n",
    "    def status(self):\n",
    "        '''\n",
    "        report the current status of network\n",
    "        \n",
    "        @Return:\n",
    "            time: scalar, time stamp\n",
    "            knows: 1D array for cities\n",
    "            energy 1D array\n",
    "        '''\n",
    "        energy = np.array([group.energy() for group in self.groups])\n",
    "        knows = np.array([group.know() for group in self.groups])\n",
    "        print(\"time:{:3}    total known population:{:8}, total energy: {:12.2f}, attention={} \".format(self.time,\n",
    "                                                                                                       np.sum(knows), \n",
    "                                                                                                       np.sum(energy),\n",
    "                                                                                                       self.attention))\n",
    "        return self.time, knows, energy"
   ]
  },
  {
   "cell_type": "code",
   "execution_count": null,
   "metadata": {
    "collapsed": true
   },
   "outputs": [],
   "source": [
    "def simulate_cities(net, info,loc=None, time = 100):\n",
    "    '''\n",
    "    Multiple city offline model with mass media simulation.\n",
    "    \n",
    "    @Input:\n",
    "        net: a GroupNet object with multiple cities.\n",
    "        info: relative importance(initial energy) of infomation\n",
    "        \n",
    "    @Return:\n",
    "        time:\n",
    "            1D array, time index\n",
    "        know: \n",
    "            2D array, The number of people know this message as multiple time series\n",
    "        energy_total:\n",
    "            2D array, total energy of this message in the city as multiple time series.\n",
    "    '''\n",
    "    net.start(info,loc)\n",
    "    status = []\n",
    "    for _ in range(time):\n",
    "        status.append(net.status())\n",
    "        net.update()\n",
    "    time, pop, energy = zip(*status)\n",
    "    return list(time), np.vstack(pop), np.vstack(energy)\n"
   ]
  },
  {
   "cell_type": "code",
   "execution_count": null,
   "metadata": {
    "collapsed": true,
    "scrolled": true
   },
   "outputs": [],
   "source": [
    "# groups = [GroupCenter(1000, 0.9), GroupCenter(1000, 0.9), GroupCenter(1000, 0.9)]\n",
    "# net = GroupNet(groups)\n",
    "# time, know, energy = simulate_cities(net, 40)"
   ]
  },
  {
   "cell_type": "markdown",
   "metadata": {},
   "source": [
    "## Deal with real world data: Population in US cities in 1870..."
   ]
  },
  {
   "cell_type": "code",
   "execution_count": null,
   "metadata": {
    "collapsed": true
   },
   "outputs": [],
   "source": [
    "import pandas as pd"
   ]
  },
  {
   "cell_type": "code",
   "execution_count": null,
   "metadata": {
    "collapsed": true
   },
   "outputs": [],
   "source": [
    "city_pop_1870 = pd.read_csv('1870_us_city_pop.csv', index_col=0)\n",
    "city_geo = pd.read_json(\"https://gist.githubusercontent.com/Miserlou/c5cd8364bf9b2420bb29/raw/2bf258763cdddd704f8ffd3ea9a3e81d25e2c6f6/cities.json\")\n",
    "city_geo = city_geo[['city','state', 'latitude', 'longitude']]\n",
    "merged = city_pop_1870.merge(city_geo, how='inner', left_on=['City', 'State'], right_on=['city', 'state'])\n",
    "df_1870 = merged.drop(['City', 'State'], axis=1)\n",
    "df_1870[\"1870 Population\"] = pd.to_numeric(df_1870['1870 Population'].str.replace(\",\", \"\"))"
   ]
  },
  {
   "cell_type": "code",
   "execution_count": null,
   "metadata": {
    "scrolled": true
   },
   "outputs": [],
   "source": [
    "# Philadelphia: Lincoln's speech\n",
    "groups = [GroupCenter(int(df_1870['1870 Population'][i]/10), popularity=0.36,name=df_1870['city'][i]) for i in range(40)]\n",
    "net = GroupNet(groups)\n",
    "time, know, energy = simulate_cities(net, 37, loc=1, time=30)"
   ]
  },
  {
   "cell_type": "code",
   "execution_count": null,
   "metadata": {},
   "outputs": [],
   "source": [
    "fig = city_slider(df_1920.iloc[:40], energy, \"Information Hot Degree Distribution\", \"Average Hot Degree\")\n",
    "py.iplot(fig)"
   ]
  },
  {
   "cell_type": "code",
   "execution_count": null,
   "metadata": {
    "collapsed": true
   },
   "outputs": [],
   "source": []
  },
  {
   "cell_type": "code",
   "execution_count": null,
   "metadata": {
    "collapsed": true
   },
   "outputs": [],
   "source": [
    "v_layout = {\n",
    "    'shapes': [\n",
    "        # Line Vertical\n",
    "        {\n",
    "            'type': 'line',\n",
    "            'x0': 8,\n",
    "            'y0': 0,\n",
    "            'x1': 8,\n",
    "            'y1': 1000000,\n",
    "            'line': {\n",
    "                'color': 'rgb(0, 255,0)',\n",
    "                'width': 1,\n",
    "            },\n",
    "        },\n",
    "        {\n",
    "            'type': 'line',\n",
    "            'x0': 12,\n",
    "            'y0': 0,\n",
    "            'x1': 12,\n",
    "            'y1': 2000000,\n",
    "            'line': {\n",
    "                'color': 'rgb(255,0,0)',\n",
    "                'width': 1,\n",
    "            },\n",
    "        },\n",
    "        {\n",
    "            'type': 'line',\n",
    "            'x0': 24,\n",
    "            'y0': 0,\n",
    "            'x1': 24,\n",
    "            'y1': 2000000,\n",
    "            'line': {\n",
    "                'color': 'rgb(255,0,0)',\n",
    "                'width': 1,\n",
    "            },\n",
    "        },\n",
    "        {\n",
    "            'type': 'line',\n",
    "            'x0': 36,\n",
    "            'y0': 0,\n",
    "            'x1': 36,\n",
    "            'y1': 2000000,\n",
    "            'line': {\n",
    "                'color': 'rgb(255,0,0)',\n",
    "                'width': 1,\n",
    "            },\n",
    "        }\n",
    "    ]\n",
    "}\n"
   ]
  },
  {
   "cell_type": "code",
   "execution_count": null,
   "metadata": {
    "collapsed": true
   },
   "outputs": [],
   "source": [
    "plt.plot(np.array(time)*2, np.sum(know, axis=1))\n",
    "plt.title('known population trend')\n",
    "plt.xlabel('time in hours (12h a day)')\n",
    "plt.ylabel('Total population know the news')\n",
    "plt.axvline(x=8, color='g')\n",
    "plt.axvline(x=12, color='r')\n",
    "plt.axvline(x=24, color='r')\n",
    "plt.axvline(x=36, color='r')"
   ]
  },
  {
   "cell_type": "code",
   "execution_count": null,
   "metadata": {
    "collapsed": true
   },
   "outputs": [],
   "source": [
    "plt.plot(np.array(time)*2, np.sum(energy, axis=1))\n",
    "plt.title('total enery trend')\n",
    "plt.xlabel('time in hours (12h a day)')\n",
    "plt.ylabel('Total energy over all cities')\n",
    "plt.axvline(x=8, color='g')\n",
    "plt.axvline(x=12, color='r')\n",
    "plt.axvline(x=24, color='r')\n",
    "plt.axvline(x=36, color='r')"
   ]
  },
  {
   "cell_type": "code",
   "execution_count": null,
   "metadata": {
    "collapsed": true
   },
   "outputs": [],
   "source": [
    "fig = {'data' :[go.Scatter(x=np.array(time)*2,y = energy[:,i], opacity=0.6, name=df_1870['city'][i]) for i in range(know.shape[1])],\n",
    "       'layout' :v_layout}\n",
    "iplot(fig)"
   ]
  },
  {
   "cell_type": "code",
   "execution_count": null,
   "metadata": {
    "collapsed": true
   },
   "outputs": [],
   "source": [
    "fig = {'data' :[go.Scatter(x=np.array(time)*2,y = know[:,i], opacity=0.6, name=df_1870['city'][i]) for i in range(know.shape[1])],\n",
    "       'layout' :v_layout}\n",
    "iplot(fig)"
   ]
  },
  {
   "cell_type": "code",
   "execution_count": null,
   "metadata": {
    "collapsed": true
   },
   "outputs": [],
   "source": [
    "np.sum(df_1870['1870 Population'])"
   ]
  },
  {
   "cell_type": "code",
   "execution_count": null,
   "metadata": {
    "collapsed": true
   },
   "outputs": [],
   "source": [
    "class GroupFake():\n",
    "    '''\n",
    "    Fake Group class to imitate the behavior of cities with close population.\n",
    "    '''\n",
    "    \n",
    "    def __init__(self, ref):\n",
    "        self.ref = ref # ref must be a real Group Object!\n",
    "        self.attention = False\n",
    "    \n",
    "    def start(self, info):\n",
    "        self.attention = ref.attention\n",
    "    \n",
    "    def update(self, info):\n",
    "        pass\n",
    "    \n",
    "    def transmit_center(self, info):\n",
    "        pass\n",
    "    \n",
    "    def know(self):\n",
    "        return ref.know()\n",
    "    \n",
    "    def energy(self):\n",
    "        return ref.energy()\n",
    "    \n",
    "    def status(self):\n",
    "        pass"
   ]
  },
  {
   "cell_type": "markdown",
   "metadata": {
    "collapsed": true
   },
   "source": [
    "## Deal with real world data: Population in US cities in 1920..."
   ]
  },
  {
   "cell_type": "code",
   "execution_count": null,
   "metadata": {
    "collapsed": true
   },
   "outputs": [],
   "source": [
    "merged = city_pop_1870.merge(city_geo, how='inner', left_on=['City', 'State'], right_on=['city', 'state'])\n",
    "df_1870 = merged.drop(['City', 'State'], axis=1)\n",
    "df_1870[\"1870 Population\"] = pd.to_numeric(df_1870['1870 Population'].str.replace(\",\", \"\"))"
   ]
  },
  {
   "cell_type": "code",
   "execution_count": null,
   "metadata": {
    "collapsed": true
   },
   "outputs": [],
   "source": [
    "city_pop_1920 = pd.read_csv('1920_us_city_pop.csv', index_col=0)\n",
    "merged = city_pop_1920.merge(city_geo, how='inner', left_on=['City', 'State'], right_on=['city', 'state'])\n",
    "df_1920 = merged.drop(['City', 'State'], axis=1)\n",
    "df_1920['Population'] = pd.to_numeric(df_1920['Population'].str.replace(\",\", \"\"))"
   ]
  },
  {
   "cell_type": "code",
   "execution_count": null,
   "metadata": {
    "scrolled": true
   },
   "outputs": [],
   "source": [
    "df_1920.head()"
   ]
  },
  {
   "cell_type": "code",
   "execution_count": null,
   "metadata": {
    "collapsed": true
   },
   "outputs": [],
   "source": [
    "df_1870['Population'] = df_1870['1870 Population']"
   ]
  },
  {
   "cell_type": "code",
   "execution_count": null,
   "metadata": {
    "scrolled": false
   },
   "outputs": [],
   "source": [
    "# NY wall street terrorist attack\n",
    "groups = [GroupCenter(int(df_1920['Population'][i]/10), popularity=0.46,name=df_1920['city'][i]) for i in range(40)]\n",
    "net = GroupNet(groups)\n",
    "time, know, energy = simulate_cities(net, 63.9, loc=0, time=30)"
   ]
  },
  {
   "cell_type": "code",
   "execution_count": null,
   "metadata": {},
   "outputs": [],
   "source": [
    "fig = city_slider(df_1870.iloc[:40], know, \"Population know\", \"average number know the news\")\n",
    "py.iplot(fig)"
   ]
  },
  {
   "cell_type": "code",
   "execution_count": null,
   "metadata": {},
   "outputs": [],
   "source": [
    "fig = city_slider(df_1870.iloc[:40], know, \"Population know\", \"average number know the news\")\n",
    "py.iplot(fig)"
   ]
  },
  {
   "cell_type": "code",
   "execution_count": null,
   "metadata": {},
   "outputs": [],
   "source": [
    "plt.plot(np.array(time)*2, np.sum(know, axis=1))\n",
    "plt.title('known population trend')\n",
    "plt.xlabel('time in hours (12h a day)')\n",
    "plt.ylabel('Total population know the news')\n",
    "plt.axvline(x=8, color='g')\n",
    "plt.axvline(x=12, color='r')\n",
    "plt.axvline(x=24, color='r')\n",
    "plt.axvline(x=36, color='r')\n",
    "plt.axvline(x=48, color='r')"
   ]
  },
  {
   "cell_type": "code",
   "execution_count": null,
   "metadata": {},
   "outputs": [],
   "source": [
    "plt.plot(np.array(time)*2, np.sum(energy, axis=1))\n",
    "plt.title('total enery trend')\n",
    "plt.xlabel('time in hours (12h a day)')\n",
    "plt.ylabel('Total energy over all cities')\n",
    "plt.axvline(x=8, color='g')\n",
    "plt.axvline(x=12, color='r')\n",
    "plt.axvline(x=24, color='r')\n",
    "plt.axvline(x=36, color='r')\n",
    "plt.axvline(x=48, color='r')"
   ]
  },
  {
   "cell_type": "code",
   "execution_count": null,
   "metadata": {},
   "outputs": [],
   "source": [
    "fig = {'data' :[go.Scatter(x=np.array(time)*2,y = know[:,i], opacity=0.6, name=df_1920['city'][i]) for i in range(know.shape[1])],\n",
    "       'layout' :v_layout}\n",
    "py.iplot(fig)"
   ]
  },
  {
   "cell_type": "code",
   "execution_count": null,
   "metadata": {
    "scrolled": false
   },
   "outputs": [],
   "source": [
    "fig = {'data' :[go.Scatter(x=np.array(time)*2,y = energy[:,i], opacity=0.6, name=df_1920['city'][i]) for i in range(know.shape[1])],\n",
    "       'layout' :v_layout}\n",
    "py.iplot(fig)"
   ]
  },
  {
   "cell_type": "code",
   "execution_count": null,
   "metadata": {
    "collapsed": true
   },
   "outputs": [],
   "source": [
    "def city_fig(df, target, title=\"\", color_title=\"\"):\n",
    "    text = df['city'] + '<br>Population ' + (df['Population']/1e6).astype(str)+' million'\n",
    "    scale = 7000\n",
    "\n",
    "    for i in range(len(limits)):\n",
    "        city = dict(\n",
    "            type = 'scattergeo',\n",
    "            locationmode = 'USA-states',\n",
    "            lon = df['longitude'],\n",
    "            lat = df['latitude'],\n",
    "            text = text,\n",
    "            marker = dict(\n",
    "                size = df['Population']/scale,\n",
    "                line = dict(width=0.5, color='rgb(40,40,40)'),\n",
    "                sizemode = 'area',\n",
    "                showscale=True,\n",
    "                # colorscale options\n",
    "                # 'Greys' | 'Greens' | 'Bluered' | 'Hot' | 'Picnic' | 'Portland' |\n",
    "                # Jet' | 'RdBu' | 'Blackbody' | 'Earth' | 'Electric' | 'YIOrRd' | 'YIGnBu'\n",
    "                colorscale='Jet',\n",
    "                reversescale=False,\n",
    "                color=target/df['Population'],\n",
    "                colorbar=dict(\n",
    "                    thickness=15,\n",
    "                    title=color_title,\n",
    "                    xanchor='left',\n",
    "                    titleside='right'\n",
    "                )\n",
    "            ))\n",
    "\n",
    "    layout = dict(\n",
    "            title = title,\n",
    "            showlegend = True,\n",
    "            geo = dict(\n",
    "                scope='usa',\n",
    "                projection=dict( type='albers usa' ),\n",
    "                showland = True,\n",
    "                landcolor = 'rgb(217, 217, 217)',\n",
    "                subunitwidth=1,\n",
    "                countrywidth=1,\n",
    "                subunitcolor=\"rgb(255, 255, 255)\",\n",
    "                countrycolor=\"rgb(255, 255, 255)\"\n",
    "            ),\n",
    "        )\n",
    "\n",
    "    fig = dict( data=[city], layout=layout )\n",
    "    return fig, city, layout"
   ]
  },
  {
   "cell_type": "code",
   "execution_count": null,
   "metadata": {
    "scrolled": false
   },
   "outputs": [],
   "source": [
    "fig, _, _ = city_fig(df_1920, df_1920['Population'],\\\n",
    "                     \"Population distribution\", \"Population\")\n",
    "py.iplot(fig)"
   ]
  },
  {
   "cell_type": "code",
   "execution_count": null,
   "metadata": {
    "collapsed": true
   },
   "outputs": [],
   "source": [
    "def city_slider(df, target, title, color_title):\n",
    "    data = []\n",
    "    for energy_snap in target:\n",
    "        _, data_snap, layout = city_fig(df, energy_snap,title, color_title)\n",
    "        data_snap['visible'] = False\n",
    "        data.append(data_snap)\n",
    "        \n",
    "    steps = []\n",
    "    for i in range(len(data)):\n",
    "        step = dict(\n",
    "            method = 'restyle',\n",
    "            args = ['visible', [False] * len(data)],\n",
    "        )\n",
    "        step['args'][1][i] = True # Toggle i'th trace to \"visible\"\n",
    "        steps.append(step)\n",
    "\n",
    "    sliders = [dict(\n",
    "        active = 10,\n",
    "        currentvalue = {\"prefix\": \"Time (2 Hour): \"},\n",
    "        pad = {\"t\": 50},\n",
    "        steps = steps\n",
    "    )]\n",
    "    layout['sliders'] = sliders\n",
    "    fig = dict(data=data, layout=layout)\n",
    "    return fig"
   ]
  },
  {
   "cell_type": "code",
   "execution_count": null,
   "metadata": {},
   "outputs": [],
   "source": [
    "fig = city_slider(df_1920.iloc[:40], energy, \"Information Hot Degree Distribution\", \"Average Hot Degree\")\n",
    "py.iplot(fig)"
   ]
  },
  {
   "cell_type": "code",
   "execution_count": null,
   "metadata": {},
   "outputs": [],
   "source": [
    "fig = city_slider(df_1920.iloc[:40], know, \"Population know\", \"average number know the news\")\n",
    "py.iplot(fig)"
   ]
  },
  {
   "cell_type": "markdown",
   "metadata": {},
   "source": [
    "## Internet Workd: One world, One city"
   ]
  },
  {
   "cell_type": "code",
   "execution_count": null,
   "metadata": {},
   "outputs": [],
   "source": [
    "world = GroupNet([GroupCenter(3030000, popularity=0.4)])"
   ]
  },
  {
   "cell_type": "code",
   "execution_count": null,
   "metadata": {},
   "outputs": [],
   "source": [
    "world = GroupNet([GroupCenter(3030000, popularity=0.4)])\n",
    "time, know, energy = simulate_cities(world, 68.64, loc=0, time=30)"
   ]
  },
  {
   "cell_type": "code",
   "execution_count": null,
   "metadata": {},
   "outputs": [],
   "source": [
    "plt.plot(np.array(time)*2, np.sum(energy, axis=1))\n",
    "plt.title('total enery trend')\n",
    "plt.xlabel('time in hours (12h a day)')\n",
    "plt.ylabel('Total energy over all cities')"
   ]
  },
  {
   "cell_type": "code",
   "execution_count": null,
   "metadata": {},
   "outputs": [],
   "source": [
    "plt.plot(np.array(time)*2, np.sum(know, axis=1) / 3030000)\n",
    "plt.title('known population trend')\n",
    "plt.xlabel('time in hours (12h a day)')\n",
    "plt.ylabel('Proportion of population know the news')"
   ]
  },
  {
   "cell_type": "code",
   "execution_count": null,
   "metadata": {
    "collapsed": true
   },
   "outputs": [],
   "source": [
    "google_trend = pd.read_csv('multiTimeline.csv').iloc[20:100]"
   ]
  },
  {
   "cell_type": "code",
   "execution_count": null,
   "metadata": {},
   "outputs": [],
   "source": [
    "google_trend.plot(x='Date', legend=False)\n",
    "plt.ylabel('google search index')"
   ]
  },
  {
   "cell_type": "code",
   "execution_count": null,
   "metadata": {},
   "outputs": [],
   "source": [
    "google_trend.shape"
   ]
  },
  {
   "cell_type": "markdown",
   "metadata": {},
   "source": [
    "## 2050: ACCEPT=0.1 and Change of topology"
   ]
  },
  {
   "cell_type": "code",
   "execution_count": null,
   "metadata": {
    "collapsed": true
   },
   "outputs": [],
   "source": [
    "G = nx.powerlaw_cluster_graph(200, 2, 1)"
   ]
  },
  {
   "cell_type": "code",
   "execution_count": null,
   "metadata": {},
   "outputs": [],
   "source": [
    "world = GroupNet([GroupCenter(330000, popularity=0.3)])"
   ]
  },
  {
   "cell_type": "code",
   "execution_count": null,
   "metadata": {},
   "outputs": [],
   "source": [
    "time, know, energy = simulate_cities(world, 68.64, loc=0, time=60)"
   ]
  },
  {
   "cell_type": "code",
   "execution_count": null,
   "metadata": {},
   "outputs": [],
   "source": [
    "plt.plot(np.array(time)*2,know)\n",
    "plt.title('known population trend')\n",
    "plt.xlabel('time in hours (12h a day)')\n",
    "plt.ylabel('Total population know the news')"
   ]
  },
  {
   "cell_type": "code",
   "execution_count": null,
   "metadata": {},
   "outputs": [],
   "source": [
    "plt.plot(np.array(time)*2, np.sum(energy, axis=1))\n",
    "plt.title('total enery trend')\n",
    "plt.xlabel('time in hours (12h a day)')\n",
    "plt.ylabel('Total energy over all cities')"
   ]
  },
  {
   "cell_type": "markdown",
   "metadata": {
    "collapsed": true
   },
   "source": [
    "## Opinion Change!"
   ]
  },
  {
   "cell_type": "code",
   "execution_count": null,
   "metadata": {
    "collapsed": true
   },
   "outputs": [],
   "source": [
    "from numpy.random import rand\n",
    "class NodeOpinion(Node):\n",
    "    def __init__(self, prob):\n",
    "        '''\n",
    "        prob: probability that this node is a ciritcer\n",
    "        '''\n",
    "        self.criticize = rand()<prob\n",
    "        self.energy = 0\n",
    "        self.know = False\n",
    "        \n",
    "    def transmit(self, other):\n",
    "        if not other.know:\n",
    "            other.get_info(self.energy+1)\n",
    "            \n",
    "    def get_info(self, info):\n",
    "        if not self.know:\n",
    "            self.know = True\n",
    "            if self.criticize:\n",
    "                self.energy = -info\n",
    "            else:\n",
    "                self.energy = info\n",
    "        elif np.abs(self.energy) < np.abs(info):\n",
    "            self.energy = (self.energy + info) / 2.\n",
    "     \n",
    "    def transmit(self, other):\n",
    "        other.get_info(self.energy + np.sign(self.energy))"
   ]
  },
  {
   "cell_type": "code",
   "execution_count": null,
   "metadata": {
    "collapsed": true
   },
   "outputs": [],
   "source": [
    "class GroupCenterOpinion(GroupCenter):\n",
    "    def __init__(self,num, criticize=0.4, popularity=0.3):\n",
    "        self.popularity = popularity\n",
    "        self.index_central = choice(num, int(num*popularity))\n",
    "        self.attention = False\n",
    "        self.nodes = [NodeOpinion(criticize) for _ in range(num)]\n",
    "        self.G = nx.powerlaw_cluster_graph(num, 2, 1) # 0.5 controls the prefrence of clusters\n",
    "        self.name = \"ha\"\n",
    "\n",
    "    def energy_status(self):\n",
    "        pos = 0\n",
    "        neg = 0\n",
    "        for node in self.nodes:\n",
    "            if node.energy>0:\n",
    "                pos += node.energy\n",
    "            else:\n",
    "                neg += node.energy\n",
    "        return pos, neg\n",
    "    \n",
    "    def know_status(self):\n",
    "        pos = 0\n",
    "        neg = 0\n",
    "        for node in self.nodes:\n",
    "            if node.energy>0:\n",
    "                pos += 1\n",
    "            elif node.energy < 0:\n",
    "                neg += 1\n",
    "        return pos, neg"
   ]
  },
  {
   "cell_type": "code",
   "execution_count": null,
   "metadata": {
    "collapsed": true
   },
   "outputs": [],
   "source": [
    "city = GroupCenterOpinion(1000)"
   ]
  },
  {
   "cell_type": "code",
   "execution_count": null,
   "metadata": {
    "collapsed": true
   },
   "outputs": [],
   "source": [
    "city.start(100)"
   ]
  },
  {
   "cell_type": "code",
   "execution_count": null,
   "metadata": {
    "collapsed": true
   },
   "outputs": [],
   "source": [
    "a = 0\n",
    "for node in city.nodes:\n",
    "    if node.know:\n",
    "        a = node"
   ]
  },
  {
   "cell_type": "code",
   "execution_count": null,
   "metadata": {},
   "outputs": [],
   "source": [
    "a.energy"
   ]
  },
  {
   "cell_type": "code",
   "execution_count": null,
   "metadata": {},
   "outputs": [],
   "source": [
    "a.know"
   ]
  },
  {
   "cell_type": "code",
   "execution_count": null,
   "metadata": {
    "collapsed": true
   },
   "outputs": [],
   "source": [
    "class GroupNetOp(GroupNet):\n",
    "    def status(self):\n",
    "        energy = np.array([self.groups[0].energy_status()])\n",
    "        knows = np.array([self.groups[0].know_status()])\n",
    "        print(\"time:{:5} energy:{}, pop:{} \".format(self.time, self.groups[0].energy(), self.groups[0].know()))\n",
    "        return self.time, knows, energy"
   ]
  },
  {
   "cell_type": "code",
   "execution_count": null,
   "metadata": {
    "collapsed": true
   },
   "outputs": [],
   "source": [
    "world = GroupNetOp([GroupCenterOpinion(30300, popularity=0.4)])"
   ]
  },
  {
   "cell_type": "code",
   "execution_count": null,
   "metadata": {},
   "outputs": [],
   "source": [
    "time, know, energy = simulate_cities(world, 68.64, loc=0, time=60)"
   ]
  },
  {
   "cell_type": "code",
   "execution_count": null,
   "metadata": {
    "collapsed": true
   },
   "outputs": [],
   "source": [
    "legend = ['positive attitude', 'negative attitude']"
   ]
  },
  {
   "cell_type": "code",
   "execution_count": null,
   "metadata": {},
   "outputs": [],
   "source": [
    "fig = {'data' :[go.Scatter(x=np.array(time)*2,y = np.abs(energy[:,i]), opacity=0.6, name=legend[i]) for i in range(know.shape[1])]}\n",
    "py.iplot(fig)"
   ]
  },
  {
   "cell_type": "code",
   "execution_count": null,
   "metadata": {},
   "outputs": [],
   "source": [
    "fig = {'data' :[go.Scatter(x=np.array(time)*2,y = know[:,i]*10000, opacity=0.6, name=legend[i]) for i in range(know.shape[1])]}\n",
    "py.iplot(fig)"
   ]
  },
  {
   "cell_type": "code",
   "execution_count": null,
   "metadata": {
    "collapsed": true
   },
   "outputs": [],
   "source": []
  }
 ],
 "metadata": {
  "kernelspec": {
   "display_name": "Python [default]",
   "language": "python",
   "name": "python3"
  },
  "language_info": {
   "codemirror_mode": {
    "name": "ipython",
    "version": 3
   },
   "file_extension": ".py",
   "mimetype": "text/x-python",
   "name": "python",
   "nbconvert_exporter": "python",
   "pygments_lexer": "ipython3",
   "version": "3.5.2"
  },
  "nbpresent": {
   "slides": {},
   "themes": {
    "default": "39417429-07d8-4a4d-9189-abe7fc3d4663",
    "theme": {
     "39417429-07d8-4a4d-9189-abe7fc3d4663": {
      "backgrounds": {
       "backgroundColor": {
        "background-color": "backgroundColor",
        "id": "backgroundColor"
       }
      },
      "id": "39417429-07d8-4a4d-9189-abe7fc3d4663",
      "palette": {
       "backgroundColor": {
        "id": "backgroundColor",
        "rgb": [
         256,
         256,
         256
        ]
       },
       "headingColor": {
        "id": "headingColor",
        "rgb": [
         0,
         0,
         0
        ]
       },
       "linkColor": {
        "id": "linkColor",
        "rgb": [
         0,
         0,
         139
        ]
       },
       "mainColor": {
        "id": "mainColor",
        "rgb": [
         0,
         0,
         0
        ]
       }
      },
      "rules": {
       "a": {
        "color": "linkColor"
       },
       "h1": {
        "color": "headingColor",
        "font-family": "News Cycle",
        "font-size": 7
       },
       "h2": {
        "color": "headingColor",
        "font-family": "News Cycle",
        "font-size": 5
       },
       "h3": {
        "color": "headingColor",
        "font-family": "News Cycle",
        "font-size": 3.75
       },
       "h4": {
        "color": "headingColor",
        "font-family": "News Cycle",
        "font-size": 3
       },
       "h5": {
        "color": "headingColor",
        "font-family": "News Cycle"
       },
       "h6": {
        "color": "headingColor",
        "font-family": "News Cycle"
       },
       "h7": {
        "color": "headingColor",
        "font-family": "News Cycle"
       },
       "li": {
        "color": "mainColor",
        "font-family": "Lato",
        "font-size": 5
       },
       "p": {
        "color": "mainColor",
        "font-family": "Lato",
        "font-size": 5
       }
      },
      "text-base": {
       "color": "mainColor",
       "font-family": "Lato",
       "font-size": 5
      }
     },
     "a9f427bd-0f48-4eb9-9902-e9b3de8c7182": {
      "backgrounds": {
       "backgroundColor": {
        "background-color": "backgroundColor",
        "id": "backgroundColor"
       }
      },
      "id": "a9f427bd-0f48-4eb9-9902-e9b3de8c7182",
      "palette": {
       "backgroundColor": {
        "id": "backgroundColor",
        "rgb": [
         256,
         256,
         256
        ]
       },
       "headingColor": {
        "id": "headingColor",
        "rgb": [
         0,
         0,
         0
        ]
       },
       "linkColor": {
        "id": "linkColor",
        "rgb": [
         0,
         0,
         139
        ]
       },
       "mainColor": {
        "id": "mainColor",
        "rgb": [
         0,
         0,
         0
        ]
       }
      },
      "rules": {
       "a": {
        "color": "linkColor"
       },
       "h1": {
        "color": "headingColor",
        "font-family": "News Cycle",
        "font-size": 7
       },
       "h2": {
        "color": "headingColor",
        "font-family": "News Cycle",
        "font-size": 5
       },
       "h3": {
        "color": "headingColor",
        "font-family": "News Cycle",
        "font-size": 3.75
       },
       "h4": {
        "color": "headingColor",
        "font-family": "News Cycle",
        "font-size": 3
       },
       "h5": {
        "color": "headingColor",
        "font-family": "News Cycle"
       },
       "h6": {
        "color": "headingColor",
        "font-family": "News Cycle"
       },
       "h7": {
        "color": "headingColor",
        "font-family": "News Cycle"
       },
       "li": {
        "color": "mainColor",
        "font-family": "Lato",
        "font-size": 5
       },
       "p": {
        "color": "mainColor",
        "font-family": "Lato",
        "font-size": 5
       }
      },
      "text-base": {
       "color": "mainColor",
       "font-family": "Lato",
       "font-size": 5
      }
     }
    }
   }
  }
 },
 "nbformat": 4,
 "nbformat_minor": 2
}
